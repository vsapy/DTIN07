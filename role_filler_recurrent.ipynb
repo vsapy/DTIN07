{
 "cells": [
  {
   "cell_type": "code",
   "execution_count": 1,
   "id": "02b88e72",
   "metadata": {},
   "outputs": [],
   "source": [
    "from brian2 import *\n",
    "from brian2tools import *\n",
    "%matplotlib inline"
   ]
  },
  {
   "cell_type": "code",
   "execution_count": 29,
   "id": "f276b4d8",
   "metadata": {},
   "outputs": [],
   "source": [
    "slots = 10 # This is the number of neurons used to represent a vector\n",
    "bits = 16 # This is the number of bit positions\n",
    "mem_size = 10 # The number of vectors against which the resulting unbound vector is compared\n",
    "Num_bound = 2 # The number of vectors that are to be bound\n",
    "input_delay = bits # Time delay between adding cyclically shifted vectors to construct the bound vector is set to 'bits' milliseconds.\n",
    "\n",
    "#NB all timings use milliseconds and we can use a random seed if required.\n",
    "#np.random.seed(54321)\n",
    "\n",
    "target_neuron = 1\n",
    "y_low=target_neuron-1 # This is used to select the lowest index of the range of neurons that are to be displayed\n",
    "y_high=target_neuron+1 # This is used to select the highest index of the range of neurons that are to be displayed\n",
    "\n",
    "delta = (2*Num_bound+2)*bits #This determins the time period over which the Brian2 simulation is to be run.\n",
    "\n",
    "# Generate a random matrix (P_matrix) which represents all of the sparse vectors that are to be used.\n",
    "# This matrix has columns equal to the number of slots in each vector with the number of rows equal to the memory size (mem_size)\n",
    "\n",
    "P_matrix = np.random.randint(0, bits, size=(mem_size,slots))\n",
    "min_match=slots"
   ]
  },
  {
   "cell_type": "code",
   "execution_count": 30,
   "id": "7228aa33",
   "metadata": {},
   "outputs": [
    {
     "name": "stdout",
     "output_type": "stream",
     "text": [
      "[[ 1  3  9  9 11  9  0  0  9  3]\n",
      " [ 3 13 15  3 14  6  7  1 13 12]\n",
      " [ 1 15  0  2  4 12 15  5 14 13]\n",
      " [ 3  4 13 15  8 14  5 14  4  7]\n",
      " [11  5 11 13  0  6  7  2  9  8]\n",
      " [ 5  2  7  7 14 10  8 12 10 13]\n",
      " [ 6 12 10  0  6 15  1 14  9  5]\n",
      " [ 4 12 11  1 10 15 10  5 13 10]\n",
      " [ 5  9  6 12  7 13 15  9  5 14]\n",
      " [10  3  0  6  1  8  0  1  1 15]]\n"
     ]
    }
   ],
   "source": [
    "print(P_matrix)"
   ]
  },
  {
   "cell_type": "code",
   "execution_count": 31,
   "id": "0fcee226",
   "metadata": {},
   "outputs": [],
   "source": [
    "#This section of the code implements the role/filler binding in the Brian2 network (net1)\n",
    "\n",
    "net1=Network()\n",
    "\n",
    "#We first create an array of time delays which will be used to select the first Num_bound vectors from \n",
    "# the P_matrix with a time delay (input_delay) between each vector.\n",
    "\n",
    "\n",
    "# Calculate the array for the input spike generator\n",
    "array1 = ones(mem_size)*slots*bits\n",
    "\n",
    "# The input spike generator creates pairs of spkies corresponding to contiguous pairs of vectors from the memory \n",
    "# that are going to be bound together (i.e., vector_0 & vector_1 then vector_2 and Vector_3 etc.)\n",
    "\n",
    "for b in range(0,2*Num_bound,2):\n",
    "    array1[b] = (b)*input_delay\n",
    "    array1[b+1] = (b)*input_delay\n",
    "\n",
    "# Create the corresponding spike generator group.\n",
    "P = SpikeGeneratorGroup(mem_size,arange(mem_size), (array1)*ms)\n",
    "\n",
    "net1.add(P)"
   ]
  },
  {
   "cell_type": "code",
   "execution_count": 32,
   "id": "dde2941d",
   "metadata": {},
   "outputs": [
    {
     "name": "stdout",
     "output_type": "stream",
     "text": [
      "[  0.   0.  32.  32. 160. 160. 160. 160. 160. 160.]\n"
     ]
    }
   ],
   "source": [
    "print(array1)"
   ]
  },
  {
   "cell_type": "code",
   "execution_count": 33,
   "id": "b5209d97",
   "metadata": {},
   "outputs": [],
   "source": [
    "#SMP = SpikeMonitor(P)\n",
    "#net1.add(SMP)"
   ]
  },
  {
   "cell_type": "code",
   "execution_count": 34,
   "id": "00504336",
   "metadata": {},
   "outputs": [],
   "source": [
    "#net1.run(100*ms)"
   ]
  },
  {
   "cell_type": "code",
   "execution_count": 35,
   "id": "03476136",
   "metadata": {},
   "outputs": [],
   "source": [
    "#brian_plot(SMP)"
   ]
  },
  {
   "cell_type": "code",
   "execution_count": 36,
   "id": "268dcda3",
   "metadata": {},
   "outputs": [
    {
     "name": "stderr",
     "output_type": "stream",
     "text": [
      "WARNING    Model equations use the \"unless refractory\" flag but no refractory keyword was given. [brian2.groups.neurongroup.no_refractory]\n"
     ]
    },
    {
     "name": "stdout",
     "output_type": "stream",
     "text": [
      "<synapses_6.i: array([0, 0, 0, 0, 0, 0, 0, 0, 0, 0, 1, 1, 1, 1, 1, 1, 1, 1, 1, 1, 2, 2,\n",
      "       2, 2, 2, 2, 2, 2, 2, 2, 3, 3, 3, 3, 3, 3, 3, 3, 3, 3, 4, 4, 4, 4,\n",
      "       4, 4, 4, 4, 4, 4, 5, 5, 5, 5, 5, 5, 5, 5, 5, 5, 6, 6, 6, 6, 6, 6,\n",
      "       6, 6, 6, 6, 7, 7, 7, 7, 7, 7, 7, 7, 7, 7, 8, 8, 8, 8, 8, 8, 8, 8,\n",
      "       8, 8, 9, 9, 9, 9, 9, 9, 9, 9, 9, 9], dtype=int32)>\n",
      "<synapses_6.j: array([0, 1, 2, 3, 4, 5, 6, 7, 8, 9, 0, 1, 2, 3, 4, 5, 6, 7, 8, 9, 0, 1,\n",
      "       2, 3, 4, 5, 6, 7, 8, 9, 0, 1, 2, 3, 4, 5, 6, 7, 8, 9, 0, 1, 2, 3,\n",
      "       4, 5, 6, 7, 8, 9, 0, 1, 2, 3, 4, 5, 6, 7, 8, 9, 0, 1, 2, 3, 4, 5,\n",
      "       6, 7, 8, 9, 0, 1, 2, 3, 4, 5, 6, 7, 8, 9, 0, 1, 2, 3, 4, 5, 6, 7,\n",
      "       8, 9, 0, 1, 2, 3, 4, 5, 6, 7, 8, 9], dtype=int32)>\n",
      "<synapses_6_pre.delay: array([ 1.,  3.,  9.,  9., 11.,  9.,  0.,  0.,  9.,  3.,  3., 13., 15.,\n",
      "        3., 14.,  6.,  7.,  1., 13., 12.,  1., 15.,  0.,  2.,  4., 12.,\n",
      "       15.,  5., 14., 13.,  3.,  4., 13., 15.,  8., 14.,  5., 14.,  4.,\n",
      "        7., 11.,  5., 11., 13.,  0.,  6.,  7.,  2.,  9.,  8.,  5.,  2.,\n",
      "        7.,  7., 14., 10.,  8., 12., 10., 13.,  6., 12., 10.,  0.,  6.,\n",
      "       15.,  1., 14.,  9.,  5.,  4., 12., 11.,  1., 10., 15., 10.,  5.,\n",
      "       13., 10.,  5.,  9.,  6., 12.,  7., 13., 15.,  9.,  5., 14., 10.,\n",
      "        3.,  0.,  6.,  1.,  8.,  0.,  1.,  1., 15.]) * msecond>\n"
     ]
    },
    {
     "data": {
      "image/png": "[encoded data removed]",
      "text/plain": [
       "<Figure size 432x288 with 1 Axes>"
      ]
     },
     "metadata": {
      "needs_background": "light"
     },
     "output_type": "display_data"
    }
   ],
   "source": [
    "#We now define the set of equation and reset definitions that will be used to generate the neuron action\n",
    "#potentials and spike reset operations.  Note that we make use of the Brian2 refractory operation.\n",
    "\n",
    "equ1 ='''\n",
    "dv/dt = (I)/tau : 1 (unless refractory)\n",
    "I : 1\n",
    "tau : second\n",
    "'''\n",
    "\n",
    "equ2 = '''\n",
    "dv/dt = -v/tau : 1 \n",
    "I : 1\n",
    "vt : 1\n",
    "tau : second\n",
    "'''\n",
    "reset1 = '''\n",
    "I=0.0\n",
    "v=0.0\n",
    "'''\n",
    "reset2 = '''\n",
    "vt += v\n",
    "v=0.0\n",
    "'''\n",
    "\n",
    "# The G1 neurons perform the addition operation in the two selected vectors. Equ1 is a linearly increasing function \n",
    "# with a time constant of 2*bits*ms (I=1.0).  The G1 neuron group is stimulated from the P spike generator group with \n",
    "# spikes that simultaneously select a role and filler vector using the time delay on the G1 dendrites obtained from the P_matrix (S0.delay)\n",
    "# On receiving the first spike from either role or filler vector the value of I\n",
    "# is changed to 0.0 which holds the neuron potential constant until the second spike is received when I = -1.0 and the neuron\n",
    "#  potential decays until the threshold value v<0.0 when it fires to give the required modulus addition. The value of I is \n",
    "# reset to 1.0 using the spike from the P spikemonitorgroup (S1) and the next two vectors are added.\n",
    "\n",
    "G1 = NeuronGroup(slots, equ1,\n",
    "                 threshold='v < 0.0 or v>=1.0',reset=reset1, method='euler')\n",
    "\n",
    "G1.v =0.0\n",
    "G1.I = 1.0\n",
    "G1.tau = 2*bits*ms\n",
    "\n",
    "net1.add(G1)\n",
    "\n",
    "\n",
    "S0 = Synapses(P, G1, 'w : 1',on_pre= 'I = (I-1)')\n",
    "\n",
    "range_array1 = range(0,slots)\n",
    "for n in range(0,mem_size):\n",
    "    S0.connect(i=n,j=range_array1)     \n",
    "S0.delay = reshape(P_matrix,mem_size*slots)*ms\n",
    "\n",
    "net1.add(S0)\n",
    "\n",
    "print(S0.i)\n",
    "print(S0.j)\n",
    "print(S0.delay)\n",
    "#brian_plot(S0)\n",
    "plot(S0.delay, S0.i, '.')\n",
    "xlabel('Time (ms)')\n",
    "ylabel('neuron id');\n",
    "net1.run(140*ms)"
   ]
  },
  {
   "cell_type": "code",
   "execution_count": 37,
   "id": "76d34d3c",
   "metadata": {},
   "outputs": [
    {
     "name": "stdout",
     "output_type": "stream",
     "text": [
      "<synapses_6.w: array([0., 0., 0., 0., 0., 0., 0., 0., 0., 0., 0., 0., 0., 0., 0., 0., 0.,\n",
      "       0., 0., 0., 0., 0., 0., 0., 0., 0., 0., 0., 0., 0., 0., 0., 0., 0.,\n",
      "       0., 0., 0., 0., 0., 0., 0., 0., 0., 0., 0., 0., 0., 0., 0., 0., 0.,\n",
      "       0., 0., 0., 0., 0., 0., 0., 0., 0., 0., 0., 0., 0., 0., 0., 0., 0.,\n",
      "       0., 0., 0., 0., 0., 0., 0., 0., 0., 0., 0., 0., 0., 0., 0., 0., 0.,\n",
      "       0., 0., 0., 0., 0., 0., 0., 0., 0., 0., 0., 0., 0., 0., 0.])>\n"
     ]
    }
   ],
   "source": [
    "print(S0.w)"
   ]
  },
  {
   "cell_type": "code",
   "execution_count": 38,
   "id": "491735d5",
   "metadata": {},
   "outputs": [
    {
     "data": {
      "text/plain": [
       "<AxesSubplot:xlabel='source neuron index', ylabel='target neuron index'>"
      ]
     },
     "execution_count": 38,
     "metadata": {},
     "output_type": "execute_result"
    },
    {
     "data": {
      "image/png": "[encoded data removed]",
      "text/plain": [
       "<Figure size 432x288 with 2 Axes>"
      ]
     },
     "metadata": {
      "needs_background": "light"
     },
     "output_type": "display_data"
    }
   ],
   "source": [
    "brian_plot(S0.w)"
   ]
  },
  {
   "cell_type": "code",
   "execution_count": 39,
   "id": "fac929f1",
   "metadata": {},
   "outputs": [],
   "source": [
    "S1 = Synapses(P, G1, 'w : 1',on_pre= 'I=1.0')\n",
    "\n",
    "for n in range(0,mem_size):\n",
    "    S1.connect(i=n,j=range_array1)    \n",
    "\n",
    "net1.add(S1)"
   ]
  },
  {
   "cell_type": "code",
   "execution_count": 40,
   "id": "de518670",
   "metadata": {},
   "outputs": [
    {
     "name": "stdout",
     "output_type": "stream",
     "text": [
      "range(0, 10)\n"
     ]
    }
   ],
   "source": [
    "print(range_array1)"
   ]
  },
  {
   "cell_type": "markdown",
   "id": "4ec8f90f",
   "metadata": {},
   "source": [
    "![fred](img/role_filler_binding01.png)"
   ]
  },
  {
   "cell_type": "code",
   "execution_count": 41,
   "id": "ae1a3c10",
   "metadata": {},
   "outputs": [
    {
     "data": {
      "text/plain": [
       "<AxesSubplot:xlabel='source neuron index', ylabel='target neuron index'>"
      ]
     },
     "execution_count": 41,
     "metadata": {},
     "output_type": "execute_result"
    },
    {
     "data": {
      "image/png": "[encoded data removed]",
      "text/plain": [
       "<Figure size 432x288 with 2 Axes>"
      ]
     },
     "metadata": {
      "needs_background": "light"
     },
     "output_type": "display_data"
    }
   ],
   "source": [
    "brian_plot(S1.w)"
   ]
  },
  {
   "cell_type": "code",
   "execution_count": 42,
   "id": "c23763cc",
   "metadata": {},
   "outputs": [],
   "source": [
    "# NeuronGroup G2 performs the recurrent bundling operation (note there is no cyclic shift here)\n",
    "\n",
    "G2 = NeuronGroup(slots, equ2, threshold='v >= 1.0', reset='v=v', method='euler')\n",
    "\n",
    "G2.v = 0.0\n",
    "G2.tau = 0.5*ms\n",
    "\n",
    "net1.add(G2)\n",
    "S2 = Synapses(G1, G2, 'w : 1', on_pre='v += 1.25' )\n",
    "S2.connect(j='i') \n",
    "\n",
    "net1.add(S2)\n",
    "\n",
    "S3 = Synapses(G2, G2, 'w : 1', on_pre='v +=1.25' )\n",
    "S3.connect(j='i') \n",
    "S3.delay = (bits-0.1)*ms\n",
    "\n",
    "net1.add(S3)"
   ]
  },
  {
   "cell_type": "markdown",
   "id": "6ec4e76a",
   "metadata": {},
   "source": [
    "The resulting vector from the recurrent superposition operation is a dense vector. To create the corresponding sparse vector the G4 and G5 neuron groups work together to perform the Argmax operation. \n",
    "\n",
    "The G4 neurons perform part of this operation by using a variable spike threshold such that if spikes from the superposed vectors have the same time delay then they will only exceed the threshold if the same number of aligne spikes has not occured earlier.\n",
    "\n",
    "The G5 neurons then use a linear decaying neuron potential to create a single spike per slot which is the required sparse bound vector.\n",
    "\n"
   ]
  },
  {
   "cell_type": "code",
   "execution_count": 43,
   "id": "c493998e",
   "metadata": {},
   "outputs": [],
   "source": [
    "\n",
    "\n",
    "G4 = NeuronGroup(slots, model=equ2, reset=reset2, threshold='v>=vt',method='euler',refractory='t<(2*Num_bound)*bits*ms')\n",
    "\n",
    "\n",
    "G4.v = 1.0\n",
    "G4.vt = -0.5\n",
    "G4.I = 1.0\n",
    "G4.tau =0.25*ms\n",
    "\n",
    "net1.add(G4)\n",
    "\n",
    "S4 = Synapses(G2, G4, 'w : 1', on_pre='v +=1.0')\n",
    "S4.connect(j='i') \n",
    "\n",
    "net1.add(S4)\n",
    "\n",
    "G5 = NeuronGroup(slots, equ1,\n",
    "                 threshold='v <= 0.0', reset='v=1.0', method='euler',refractory = 't< (2*Num_bound)*bits*ms')\n",
    "\n",
    "\n",
    "G5.v = 0.0\n",
    "G5.I = -1.0\n",
    "G5.tau = bits*ms\n",
    "\n",
    "net1.add(G5)\n",
    "\n",
    "argmax_synapse = Synapses(G4, G5, 'w : 1', on_pre='v = 1.0')\n",
    "argmax_synapse.connect(j='i') \n",
    "\n",
    "net1.add(argmax_synapse)\n"
   ]
  },
  {
   "cell_type": "code",
   "execution_count": 44,
   "id": "22d5d055",
   "metadata": {},
   "outputs": [],
   "source": [
    "# Create the required monitors\n",
    "\n",
    "SMP = SpikeMonitor(P)\n",
    "net1.add(SMP)\n",
    "M1 = StateMonitor(G1, 'v', record=True)\n",
    "net1.add(M1)\n",
    "SM1= SpikeMonitor(G1)\n",
    "net1.add(SM1)\n",
    "M2 = StateMonitor(G2, 'v', record=True)\n",
    "net1.add(M2)\n",
    "SM2= SpikeMonitor(G2)\n",
    "net1.add(SM2)\n",
    "SM4 = SpikeMonitor(G4)\n",
    "net1.add(SM4)\n",
    "M4 = StateMonitor(G4, 'vt', record=True)\n",
    "net1.add(M4)\n",
    "M5 = StateMonitor(G4, 'v', record=True)\n",
    "net1.add(M5)\n",
    "SM5 = SpikeMonitor(G5)\n",
    "net1.add(SM5)\n",
    "M6 = StateMonitor(G5, 'v', record=True)\n",
    "net1.add(M6)"
   ]
  },
  {
   "cell_type": "code",
   "execution_count": 45,
   "id": "43bca0c8",
   "metadata": {},
   "outputs": [
    {
     "name": "stdout",
     "output_type": "stream",
     "text": [
      "Starting simulation at t=140. ms for a duration of 96. ms\n",
      "96. ms (100%) simulated in < 1s\n"
     ]
    }
   ],
   "source": [
    "# Run Net1 for delta milliseconds\n",
    "\n",
    "net1.run(delta*ms, report='text')"
   ]
  },
  {
   "cell_type": "code",
   "execution_count": 46,
   "id": "b5752f2b",
   "metadata": {},
   "outputs": [
    {
     "name": "stdout",
     "output_type": "stream",
     "text": [
      "Obtain the sparse vector timings from the SM5 monitor to compare with the theoretical values.\n",
      "\n",
      "[ 76 151 135 103 119 117  76 149 133 101 123 107  76 155 139  76 103 151\n",
      " 119 135 135 151  76 119 103  76 108 140  92 124  76 136 152 120 104 131\n",
      " 147  76 115  99 134 102 118 150  76 124 107 140  76]\n"
     ]
    },
    {
     "data": {
      "text/plain": [
       "<AxesSubplot:xlabel='time (ms)', ylabel='neuron index'>"
      ]
     },
     "execution_count": 46,
     "metadata": {},
     "output_type": "execute_result"
    },
    {
     "data": {
      "image/png": "[encoded data removed]",
      "text/plain": [
       "<Figure size 432x288 with 1 Axes>"
      ]
     },
     "metadata": {
      "needs_background": "light"
     },
     "output_type": "display_data"
    }
   ],
   "source": [
    "print('Obtain the sparse vector timings from the SM5 monitor to compare with the theoretical values.')\n",
    "array2 = np.array([SM5.i,SM5.t/ms])\n",
    "sub_array2 = array2[0:2,slots:]\n",
    "print()\n",
    "sorted_sub_array2 = sub_array2[:,sub_array2[0].argsort()].astype(int) - (2*Num_bound+1)*bits\n",
    "P1_timing = sorted_sub_array2[1]\n",
    "print(P1_timing)\n",
    "imshow(sorted_sub_array2)\n",
    "brian_plot(SM5)"
   ]
  },
  {
   "cell_type": "code",
   "execution_count": 47,
   "id": "f00fc874",
   "metadata": {},
   "outputs": [
    {
     "data": {
      "text/plain": [
       "<AxesSubplot:xlabel='time (ms)', ylabel='neuron index'>"
      ]
     },
     "execution_count": 47,
     "metadata": {},
     "output_type": "execute_result"
    },
    {
     "data": {
      "image/png": "[encoded data removed]",
      "text/plain": [
       "<Figure size 432x288 with 1 Axes>"
      ]
     },
     "metadata": {
      "needs_background": "light"
     },
     "output_type": "display_data"
    }
   ],
   "source": [
    "# The following plots output from the different monitors\n",
    "# subplot(4,2,1)\n",
    "# plot(SMP.t/ms, SMP.i,'|')\n",
    "# xlabel('Time (ms)')\n",
    "# ylabel('P Neuron id')\n",
    "brian_plot(SMP)"
   ]
  },
  {
   "cell_type": "code",
   "execution_count": 48,
   "id": "fabf08e4",
   "metadata": {},
   "outputs": [],
   "source": [
    "# plt.ylim(0,10)\n",
    "# plt.xlim(0,2*bits*Num_bound)\n",
    "# plt.xlim(9700,10800)\n"
   ]
  },
  {
   "cell_type": "code",
   "execution_count": 49,
   "id": "33c7d906",
   "metadata": {},
   "outputs": [
    {
     "data": {
      "text/plain": [
       "Text(0, 0.5, 'G1 Neuron Voltage')"
      ]
     },
     "execution_count": 49,
     "metadata": {},
     "output_type": "execute_result"
    },
    {
     "data": {
      "image/png": "[encoded data removed]",
      "text/plain": [
       "<Figure size 432x288 with 1 Axes>"
      ]
     },
     "metadata": {
      "needs_background": "light"
     },
     "output_type": "display_data"
    }
   ],
   "source": [
    "subplot(4,2,2)\n",
    "plot(M1.t/ms, M1.v[target_neuron].T)\n",
    "xlabel('Time (ms)')\n",
    "ylabel('G1 Neuron Voltage')"
   ]
  },
  {
   "cell_type": "code",
   "execution_count": 50,
   "id": "4a885a65",
   "metadata": {},
   "outputs": [
    {
     "data": {
      "text/plain": [
       "Text(0, 0.5, 'G2 Neuron Voltage')"
      ]
     },
     "execution_count": 50,
     "metadata": {},
     "output_type": "execute_result"
    },
    {
     "data": {
      "image/png": "[encoded data removed]",
      "text/plain": [
       "<Figure size 432x288 with 1 Axes>"
      ]
     },
     "metadata": {
      "needs_background": "light"
     },
     "output_type": "display_data"
    }
   ],
   "source": [
    "subplot(4,2,3)\n",
    "plot(M2.t/ms, M2.v[target_neuron].T)\n",
    "xlabel('Time (ms)')\n",
    "ylabel('G2 Neuron Voltage')"
   ]
  },
  {
   "cell_type": "code",
   "execution_count": 51,
   "id": "5480fb78",
   "metadata": {},
   "outputs": [
    {
     "data": {
      "text/plain": [
       "Text(0, 0.5, 'G1 Neuron id')"
      ]
     },
     "execution_count": 51,
     "metadata": {},
     "output_type": "execute_result"
    },
    {
     "data": {
      "image/png": "[encoded data removed]",
      "text/plain": [
       "<Figure size 432x288 with 1 Axes>"
      ]
     },
     "metadata": {
      "needs_background": "light"
     },
     "output_type": "display_data"
    }
   ],
   "source": [
    "plot(SM1.t/ms, SM1.i,'|')\n",
    "xlabel('Time (ms)')\n",
    "ylabel('G1 Neuron id')"
   ]
  },
  {
   "cell_type": "code",
   "execution_count": 52,
   "id": "65090aba",
   "metadata": {},
   "outputs": [
    {
     "data": {
      "text/plain": [
       "Text(0, 0.5, 'G2 Neuron id')"
      ]
     },
     "execution_count": 52,
     "metadata": {},
     "output_type": "execute_result"
    },
    {
     "data": {
      "image/png": "[encoded data removed]",
      "text/plain": [
       "<Figure size 432x288 with 1 Axes>"
      ]
     },
     "metadata": {
      "needs_background": "light"
     },
     "output_type": "display_data"
    }
   ],
   "source": [
    "subplot(4,2,4)\n",
    "plot(SM2.t/ms, SM2.i,'|')\n",
    "xlabel('Time (ms)')\n",
    "ylabel('G2 Neuron id')"
   ]
  },
  {
   "cell_type": "code",
   "execution_count": 53,
   "id": "ea757703",
   "metadata": {},
   "outputs": [
    {
     "data": {
      "text/plain": [
       "Text(0, 0.5, 'G4 Threshold Voltage')"
      ]
     },
     "execution_count": 53,
     "metadata": {},
     "output_type": "execute_result"
    },
    {
     "data": {
      "image/png": "[encoded data removed]",
      "text/plain": [
       "<Figure size 432x288 with 1 Axes>"
      ]
     },
     "metadata": {
      "needs_background": "light"
     },
     "output_type": "display_data"
    }
   ],
   "source": [
    "subplot(4,2,5)\n",
    "plot(M4.t/ms, M4[target_neuron].vt.T)\n",
    "xlabel('Time (ms)')\n",
    "ylabel('G4 Threshold Voltage')"
   ]
  },
  {
   "cell_type": "code",
   "execution_count": 54,
   "id": "b6c55ed9",
   "metadata": {},
   "outputs": [
    {
     "data": {
      "text/plain": [
       "Text(0, 0.5, 'G4 Neuron id')"
      ]
     },
     "execution_count": 54,
     "metadata": {},
     "output_type": "execute_result"
    },
    {
     "data": {
      "image/png": "[encoded data removed]",
      "text/plain": [
       "<Figure size 432x288 with 1 Axes>"
      ]
     },
     "metadata": {
      "needs_background": "light"
     },
     "output_type": "display_data"
    }
   ],
   "source": [
    "subplot(4,2,6)\n",
    "plot(SM4.t/ms, SM4.i,'|')\n",
    "xlabel('Time (ms)')\n",
    "ylabel('G4 Neuron id')"
   ]
  },
  {
   "cell_type": "code",
   "execution_count": 55,
   "id": "f08e2875",
   "metadata": {},
   "outputs": [
    {
     "data": {
      "text/plain": [
       "Text(0, 0.5, 'G5 Neuron Voltage')"
      ]
     },
     "execution_count": 55,
     "metadata": {},
     "output_type": "execute_result"
    },
    {
     "data": {
      "image/png": "[encoded data removed]",
      "text/plain": [
       "<Figure size 432x288 with 1 Axes>"
      ]
     },
     "metadata": {
      "needs_background": "light"
     },
     "output_type": "display_data"
    }
   ],
   "source": [
    "subplot(4,2,7)\n",
    "plot(M6.t/ms, M6.v[target_neuron].T)\n",
    "xlabel('Time (ms)')\n",
    "ylabel('G5 Neuron Voltage')"
   ]
  },
  {
   "cell_type": "code",
   "execution_count": 56,
   "id": "11abc1a8",
   "metadata": {},
   "outputs": [
    {
     "data": {
      "text/plain": [
       "(80.0, 96.0)"
      ]
     },
     "execution_count": 56,
     "metadata": {},
     "output_type": "execute_result"
    },
    {
     "data": {
      "image/png": "[encoded data removed]",
      "text/plain": [
       "<Figure size 432x288 with 1 Axes>"
      ]
     },
     "metadata": {
      "needs_background": "light"
     },
     "output_type": "display_data"
    }
   ],
   "source": [
    "subplot(4,2,8)\n",
    "plot(SM5.t/ms, SM5.i,'|')\n",
    "xlabel('Time (ms)')\n",
    "ylabel('G5 Neuron id')\n",
    "#plt.ylim(y_low,y_high)\n",
    "plt.xlim((2*Num_bound+1)*bits,(2*Num_bound+2)*bits)"
   ]
  },
  {
   "cell_type": "markdown",
   "id": "d2bff1fd",
   "metadata": {},
   "source": [
    "## BELOW we perform unbinding of the previously bound vectors\n",
    "This section of the code implements the Brian2 neuromorphic circuit which unbinds the vector. \n",
    "The unbound vector and a selected role vector are processed to give the corresponding 'noisy' filler vector.\n",
    "which is then compared to the memory vectors to find the best match (i.e. the clean-up memory operation)"
   ]
  },
  {
   "cell_type": "markdown",
   "id": "7298c737",
   "metadata": {},
   "source": [
    "We first generate the time delay data_matrix which will be used in the 'clean-up memory'  so that the input vector \n",
    "time delay in each slot plus the delay matrix line up at the number of bits per slot \n",
    "(e.g. a time delay in slot 0 of the input vector of say 10 will have a corresponding delay of 90 in the corresponding\n",
    "data_matrix so that if this vector is received then the match condition is an input potential to the neuron at \n",
    "100)"
   ]
  },
  {
   "cell_type": "code",
   "execution_count": 57,
   "id": "50e47425",
   "metadata": {},
   "outputs": [
    {
     "ename": "ValueError",
     "evalue": "Length of the indices and times array must match, but 10 != 49",
     "output_type": "error",
     "traceback": [
      "\u001b[0;31m---------------------------------------------------------------------------\u001b[0m",
      "\u001b[0;31mValueError\u001b[0m                                Traceback (most recent call last)",
      "\u001b[0;32m/tmp/ipykernel_16635/3368468921.py\u001b[0m in \u001b[0;36m<module>\u001b[0;34m\u001b[0m\n\u001b[1;32m      5\u001b[0m \u001b[0;31m# the sparse bound vector which is the input to NeuronGroup G6 (S6).\u001b[0m\u001b[0;34m\u001b[0m\u001b[0;34m\u001b[0m\u001b[0;34m\u001b[0m\u001b[0m\n\u001b[1;32m      6\u001b[0m \u001b[0;34m\u001b[0m\u001b[0m\n\u001b[0;32m----> 7\u001b[0;31m \u001b[0mP1\u001b[0m \u001b[0;34m=\u001b[0m \u001b[0mSpikeGeneratorGroup\u001b[0m\u001b[0;34m(\u001b[0m\u001b[0mslots\u001b[0m\u001b[0;34m,\u001b[0m\u001b[0mnp\u001b[0m\u001b[0;34m.\u001b[0m\u001b[0marange\u001b[0m\u001b[0;34m(\u001b[0m\u001b[0mslots\u001b[0m\u001b[0;34m)\u001b[0m\u001b[0;34m,\u001b[0m \u001b[0mP1_timing\u001b[0m\u001b[0;34m*\u001b[0m\u001b[0mms\u001b[0m\u001b[0;34m)\u001b[0m\u001b[0;34m\u001b[0m\u001b[0;34m\u001b[0m\u001b[0m\n\u001b[0m\u001b[1;32m      8\u001b[0m \u001b[0;34m\u001b[0m\u001b[0m\n\u001b[1;32m      9\u001b[0m \u001b[0mnet2\u001b[0m\u001b[0;34m.\u001b[0m\u001b[0madd\u001b[0m\u001b[0;34m(\u001b[0m\u001b[0mP1\u001b[0m\u001b[0;34m)\u001b[0m\u001b[0;34m\u001b[0m\u001b[0;34m\u001b[0m\u001b[0m\n",
      "\u001b[0;32m~/anaconda3/envs/brain38/lib/python3.7/site-packages/brian2/units/fundamentalunits.py\u001b[0m in \u001b[0;36mnew_f\u001b[0;34m(*args, **kwds)\u001b[0m\n\u001b[1;32m   2432\u001b[0m                                                      get_dimensions(newkeyset[k]))\n\u001b[1;32m   2433\u001b[0m \u001b[0;34m\u001b[0m\u001b[0m\n\u001b[0;32m-> 2434\u001b[0;31m             \u001b[0mresult\u001b[0m \u001b[0;34m=\u001b[0m \u001b[0mf\u001b[0m\u001b[0;34m(\u001b[0m\u001b[0;34m*\u001b[0m\u001b[0margs\u001b[0m\u001b[0;34m,\u001b[0m \u001b[0;34m**\u001b[0m\u001b[0mkwds\u001b[0m\u001b[0;34m)\u001b[0m\u001b[0;34m\u001b[0m\u001b[0;34m\u001b[0m\u001b[0m\n\u001b[0m\u001b[1;32m   2435\u001b[0m             \u001b[0;32mif\u001b[0m \u001b[0;34m'result'\u001b[0m \u001b[0;32min\u001b[0m \u001b[0mau\u001b[0m\u001b[0;34m:\u001b[0m\u001b[0;34m\u001b[0m\u001b[0;34m\u001b[0m\u001b[0m\n\u001b[1;32m   2436\u001b[0m                 \u001b[0;32mif\u001b[0m \u001b[0misinstance\u001b[0m\u001b[0;34m(\u001b[0m\u001b[0mau\u001b[0m\u001b[0;34m[\u001b[0m\u001b[0;34m'result'\u001b[0m\u001b[0;34m]\u001b[0m\u001b[0;34m,\u001b[0m \u001b[0mCallable\u001b[0m\u001b[0;34m)\u001b[0m \u001b[0;32mand\u001b[0m \u001b[0mau\u001b[0m\u001b[0;34m[\u001b[0m\u001b[0;34m'result'\u001b[0m\u001b[0;34m]\u001b[0m \u001b[0;34m!=\u001b[0m \u001b[0mbool\u001b[0m\u001b[0;34m:\u001b[0m\u001b[0;34m\u001b[0m\u001b[0;34m\u001b[0m\u001b[0m\n",
      "\u001b[0;32m~/anaconda3/envs/brain38/lib/python3.7/site-packages/brian2/input/spikegeneratorgroup.py\u001b[0m in \u001b[0;36m__init__\u001b[0;34m(self, N, indices, times, dt, clock, period, when, order, sorted, name, codeobj_class)\u001b[0m\n\u001b[1;32m     96\u001b[0m \u001b[0;34m\u001b[0m\u001b[0m\n\u001b[1;32m     97\u001b[0m         indices, times = self._check_args(indices, times, period, N, sorted,\n\u001b[0;32m---> 98\u001b[0;31m                                           self._clock.dt)\n\u001b[0m\u001b[1;32m     99\u001b[0m \u001b[0;34m\u001b[0m\u001b[0m\n\u001b[1;32m    100\u001b[0m         \u001b[0mself\u001b[0m\u001b[0;34m.\u001b[0m\u001b[0mvariables\u001b[0m\u001b[0;34m.\u001b[0m\u001b[0madd_constant\u001b[0m\u001b[0;34m(\u001b[0m\u001b[0;34m'N'\u001b[0m\u001b[0;34m,\u001b[0m \u001b[0mvalue\u001b[0m\u001b[0;34m=\u001b[0m\u001b[0mN\u001b[0m\u001b[0;34m)\u001b[0m\u001b[0;34m\u001b[0m\u001b[0;34m\u001b[0m\u001b[0m\n",
      "\u001b[0;32m~/anaconda3/envs/brain38/lib/python3.7/site-packages/brian2/input/spikegeneratorgroup.py\u001b[0m in \u001b[0;36m_check_args\u001b[0;34m(self, indices, times, period, N, sorted, dt)\u001b[0m\n\u001b[1;32m    275\u001b[0m             raise ValueError(('Length of the indices and times array must '\n\u001b[1;32m    276\u001b[0m                               \u001b[0;34m'match, but %d != %d'\u001b[0m\u001b[0;34m)\u001b[0m \u001b[0;34m%\u001b[0m \u001b[0;34m(\u001b[0m\u001b[0mlen\u001b[0m\u001b[0;34m(\u001b[0m\u001b[0mindices\u001b[0m\u001b[0;34m)\u001b[0m\u001b[0;34m,\u001b[0m\u001b[0;34m\u001b[0m\u001b[0;34m\u001b[0m\u001b[0m\n\u001b[0;32m--> 277\u001b[0;31m                                                         len(times)))\n\u001b[0m\u001b[1;32m    278\u001b[0m         \u001b[0;32mif\u001b[0m \u001b[0mperiod\u001b[0m \u001b[0;34m<\u001b[0m \u001b[0;36m0\u001b[0m\u001b[0;34m*\u001b[0m\u001b[0msecond\u001b[0m\u001b[0;34m:\u001b[0m\u001b[0;34m\u001b[0m\u001b[0;34m\u001b[0m\u001b[0m\n\u001b[1;32m    279\u001b[0m             \u001b[0;32mraise\u001b[0m \u001b[0mValueError\u001b[0m\u001b[0;34m(\u001b[0m\u001b[0;34m'The period cannot be negative.'\u001b[0m\u001b[0;34m)\u001b[0m\u001b[0;34m\u001b[0m\u001b[0;34m\u001b[0m\u001b[0m\n",
      "\u001b[0;31mValueError\u001b[0m: Length of the indices and times array must match, but 10 != 49"
     ]
    }
   ],
   "source": [
    "data_matrix = bits - P_matrix\n",
    "\n",
    "net2=Network()\n",
    "# To pass the sparse vector from Net1 into Net2 we create a SpikeGeneratorGroup that uses the P1_timing from Net1 to generate\n",
    "# the sparse bound vector which is the input to NeuronGroup G6 (S6).\n",
    "\n",
    "P1 = SpikeGeneratorGroup(slots,np.arange(slots), P1_timing*ms)\n",
    "\n",
    "net2.add(P1)\n",
    "\n",
    "# We now define the neuron potential equations and resets plus a preset\n",
    "equ2 = '''\n",
    "dv/dt = -v/tau : 1 \n",
    "I : 1\n",
    "tau : second\n",
    "'''\n",
    "\n",
    "# equ3 ='''\n",
    "# dv/dt = (I)/tau : 1 \n",
    "# I : 1\n",
    "# tau : second\n",
    "# '''\n",
    "\n",
    "# reset3 = '''\n",
    "# I=1.0\n",
    "# v=0.0\n",
    "# '''\n",
    "# preset1 = '''\n",
    "# I = 1.0\n",
    "# v= 0.0\n",
    "# '''\n",
    "\n",
    "# NeuronGroup G7 is a recurrent circuit which simply repeates the sparse bound vector from P1 every 3*bits milliseconds \n",
    "# and feeds the output vector into the G6 neurongroup (see S7 below)\n",
    "\n",
    "G7 = NeuronGroup(slots, equ2,threshold='v>=1.0',reset='v=0.0', method='euler')\n",
    "G7.v=0.0\n",
    "G7.tau = 0.5*ms\n",
    "\n",
    "SP17 = Synapses(P1, G7, 'w : 1',on_pre= 'v=1.25')\n",
    "SP17.connect(j='i')\n",
    "SP17.delay = bits*ms\n",
    "\n",
    "S77 = Synapses(G7, G7, 'w : 1',on_pre= 'v=1.25')\n",
    "S77.connect(j='i')\n",
    "S77.delay = 3*bits*ms\n",
    "\n",
    "net2.add(G7)\n",
    "net2.add(SP17)\n",
    "net2.add(S77)"
   ]
  },
  {
   "cell_type": "code",
   "execution_count": null,
   "id": "2f2d82af",
   "metadata": {},
   "outputs": [],
   "source": [
    "#Calculate the array for the input spike generator which cycles through the role vectors 0,2,4 etc\n",
    "array2 = np.ones(mem_size)*slots*bits\n",
    "for b in range(0,Num_bound):\n",
    "    array2[b*2] = (b*3)*input_delay\n",
    "\n",
    "P2 = SpikeGeneratorGroup(mem_size,np.arange(mem_size), (array2)*ms)\n",
    "net2.add(P2)\n"
   ]
  },
  {
   "cell_type": "markdown",
   "id": "84e50038",
   "metadata": {},
   "source": [
    "The G6 neuron group is stimulated from the P spike generator group with and the G7 neuron group.\n",
    "The P spike generator generates a role vector role using the time delay on the G6 dendrites obtained from the P_matrix (S5.delay)\n",
    "and the G6 neuron group produces the sparse bound vector.\n",
    "\n",
    "The G6 neurons perform the subtraction operation on the selected vectors. In this case Equ3 is a linearly increasing function \n",
    "with a time constant of bits*ms (I=1.0).  On receiving the first spike from either role or filler vector the value of I=0.0\n",
    "which holds the neuron potential constant until the second spike is received when I again becomes 1.0  and the neuron\n",
    " potential continues to increase until the threshold value v>1.0 when it fires. To give the required modulus addition the value \n",
    "of I is maintained at 1.0 to ensure a second vector is generated. One of these two vector will have the correct modulus timings and so we compare both vectors in the final \n",
    "neuron group stage (G8) to get the best match. "
   ]
  },
  {
   "cell_type": "code",
   "execution_count": null,
   "id": "8bd90847",
   "metadata": {},
   "outputs": [],
   "source": [
    "equ3 ='''\n",
    "dv/dt = (I)/tau : 1 \n",
    "I : 1\n",
    "tau : second\n",
    "'''\n",
    "reset3 = '''\n",
    "I=1.0\n",
    "v=0.0\n",
    "'''\n",
    "preset1 = '''\n",
    "I = 1.0\n",
    "v= 0.0\n",
    "'''\n",
    "\n",
    "G6 = NeuronGroup(slots, equ3,threshold='v>=1.0',reset=reset3, method='euler')\n",
    "\n",
    "G6.v =0.0\n",
    "G6.I = 1.0\n",
    "G6.tau = bits*ms\n",
    "\n",
    "net2.add(G6)\n",
    "\n",
    "S5 = Synapses(P2, G6, 'w : 1',on_pre= 'I = (I-1)%2')\n",
    "\n",
    "range_array2 = range(0,slots)\n",
    "for n in range(0, mem_size):\n",
    "    S5.connect(i=n,j=range_array2)     \n",
    "    \n",
    "S5.delay = np.reshape(P_matrix,mem_size*slots)*ms\n",
    "net2.add(S5)\n",
    "\n",
    "S6 = Synapses(P2, G6, 'w : 1',on_pre= preset1)\n",
    "for n in range(0,mem_size):\n",
    "    S6.connect(i=n,j=range_array2)    \n",
    "\n",
    "net2.add(S6)\n",
    "\n",
    "\n",
    "S7 = Synapses(G7, G6, 'w : 1',on_pre= 'I = (I-1)%2')\n",
    "S7.connect(j='i')\n",
    "\n",
    "net2.add(S7)\n"
   ]
  },
  {
   "cell_type": "markdown",
   "id": "9f2a5793",
   "metadata": {},
   "source": [
    "This final NeuronGroup,G8, stage is the clean up memory operation using the transpose of the data_matrix to set the synaptic delays on the G8 dendrites. We only produce one output spike per match by using the refractory operator to suppress any further spikes. This could be improved to choose the larget matching spike."
   ]
  },
  {
   "cell_type": "code",
   "execution_count": null,
   "id": "02cb0f29",
   "metadata": {},
   "outputs": [],
   "source": [
    "\n",
    "G8 = NeuronGroup(mem_size, equ2, threshold='v >= min_match-0.5', reset='v=0.0', method='euler',refractory='2*bits*ms')\n",
    "\n",
    "G8.v = 1.0\n",
    "G8.tau = 2.0*ms\n",
    "\n",
    "net2.add(G8)\n",
    "\n",
    "range_array3 = range(0,mem_size)\n",
    "\n",
    "S8 = Synapses(G6, G8, on_pre='v += 1.0')\n",
    "\n",
    "for n in range(0,slots):\n",
    "    S8.connect(i=n,j=range_array3)  \n",
    "\n",
    "data_matrix2 = np.transpose(data_matrix) \n",
    "S8.delay = np.reshape(data_matrix2,mem_size*slots)*ms\n",
    "net2.add(S8)\n",
    "\n",
    "# Create the required monitors\n",
    "\n",
    "SMP1 = SpikeMonitor(P1)\n",
    "\n",
    "net2.add(SMP1)\n",
    "\n",
    "SM7 = SpikeMonitor(G7)\n",
    "net2.add(SM7)\n",
    "\n",
    "SMP2 = SpikeMonitor(P2)\n",
    "\n",
    "net2.add(SMP2)\n",
    "\n",
    "M6 = StateMonitor(G6, 'v', record=True)\n",
    "\n",
    "net2.add(M6)\n",
    "\n",
    "SM6 = SpikeMonitor(G6)\n",
    "\n",
    "net2.add(SM6)\n",
    "\n",
    "\n",
    "M8 = StateMonitor(G8, 'v', record=True)\n",
    "\n",
    "net2.add(M8)\n",
    "\n",
    "SM8 = SpikeMonitor(G8)\n",
    "\n",
    "net2.add(SM8)\n",
    "\n",
    "net2.run(((3*Num_bound+1)*bits)*ms, report='text')\n"
   ]
  },
  {
   "cell_type": "code",
   "execution_count": null,
   "id": "054db96c",
   "metadata": {},
   "outputs": [],
   "source": [
    "# Plot the sparse bound vector\n",
    "\n",
    "plot(SMP1.t/ms, SMP1.i,'|')\n",
    "xlabel('Time (ms)')\n",
    "ylabel('P Neuron id')"
   ]
  },
  {
   "cell_type": "code",
   "execution_count": null,
   "id": "2630f85e",
   "metadata": {},
   "outputs": [],
   "source": [
    "subplot(6,1,1)\n",
    "plot(SM7.t/ms, SM7.i,'|')\n",
    "xlabel('Time (ms)')\n",
    "ylabel('P1 Neuron id')\n",
    "plt.ylim(0,slots)"
   ]
  },
  {
   "cell_type": "code",
   "execution_count": null,
   "id": "f95c6d0d",
   "metadata": {},
   "outputs": [],
   "source": [
    "subplot(6,1,2)\n",
    "plot(SMP2.t/ms, SMP2.i,'|')\n",
    "xlabel('Time (ms)')\n",
    "ylabel('P2 Neuron id')"
   ]
  },
  {
   "cell_type": "code",
   "execution_count": null,
   "id": "c3e15559",
   "metadata": {},
   "outputs": [],
   "source": [
    "subplot(6,15,3)\n",
    "plot(M6.t/ms, M6.v[0].T)\n",
    "xlabel('Time (ms)')\n",
    "ylabel('G6 Neuron Voltage')"
   ]
  },
  {
   "cell_type": "code",
   "execution_count": null,
   "id": "86955bf0",
   "metadata": {},
   "outputs": [],
   "source": [
    "subplot(6,1,4)\n",
    "plot(SM6.t/ms, SM6.i,'|')\n",
    "xlabel('Time (ms)')\n",
    "ylabel('G6 Neuron id')"
   ]
  },
  {
   "cell_type": "code",
   "execution_count": null,
   "id": "918faa41",
   "metadata": {},
   "outputs": [],
   "source": [
    "brian_plot(SM6)"
   ]
  },
  {
   "cell_type": "code",
   "execution_count": null,
   "id": "e42f979b",
   "metadata": {},
   "outputs": [],
   "source": [
    "subplot(6,1,5)\n",
    "plot(M8.t/ms, M8.v.T)\n",
    "xlabel('Time (ms)')\n",
    "ylabel('G8 Neuron Voltage')"
   ]
  },
  {
   "cell_type": "code",
   "execution_count": null,
   "id": "9a515216",
   "metadata": {},
   "outputs": [],
   "source": [
    "brian_plot(M8)"
   ]
  },
  {
   "cell_type": "code",
   "execution_count": null,
   "id": "8ff217e9",
   "metadata": {},
   "outputs": [],
   "source": [
    "subplot(6,1,6)\n",
    "plot(SM8.t/ms, SM8.i,'|')\n",
    "xlabel('Time (ms)')\n",
    "ylabel('G8 Neuron id')"
   ]
  },
  {
   "cell_type": "code",
   "execution_count": null,
   "id": "bbb18e4b",
   "metadata": {},
   "outputs": [],
   "source": []
  }
 ],
 "metadata": {
  "kernelspec": {
   "display_name": "brain38",
   "language": "python",
   "name": "brain38"
  },
  "language_info": {
   "codemirror_mode": {
    "name": "ipython",
    "version": 3
   },
   "file_extension": ".py",
   "mimetype": "text/x-python",
   "name": "python",
   "nbconvert_exporter": "python",
   "pygments_lexer": "ipython3",
   "version": "3.7.11"
  }
 },
 "nbformat": 4,
 "nbformat_minor": 5
}
